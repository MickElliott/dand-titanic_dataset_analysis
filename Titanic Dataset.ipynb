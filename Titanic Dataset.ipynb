{
 "cells": [
  {
   "cell_type": "markdown",
   "metadata": {},
   "source": [
    "# Titanic Dataset\n",
    "This Titanic Dataset notebook was created for the final project of the _Introduction to Data Analysis_ Udacity course. \n",
    "Specificaly, this project is the _Investigate a Dataset_ project. \n",
    "\n",
    "This notebook forms an analysis of the dataset of passengers onboard the RMS Titanic in 1912. It contains demographic and passenger information from 891 of the 2224 passengers and crew on board the Titanic. This dataset provides an insightful opportunity to investigate what factors may have affected each passenger's chance of survival. The dataset was obtained from the [Kaggle website](https://www.kaggle.com/c/titanic/data).\n",
    "\n",
    "The _Introduction to Data Analysis_ course serves as the first course of the Udacity Data Analyst Nanodegree."
   ]
  },
  {
   "cell_type": "markdown",
   "metadata": {},
   "source": [
    "## Wrangling the Data\n",
    "### Load the Data From CSV\n",
    "Use the _pandas_ Python library to load the Titanic data from the CSV file obtained from the Kaggle website."
   ]
  },
  {
   "cell_type": "code",
   "execution_count": 220,
   "metadata": {
    "collapsed": true
   },
   "outputs": [],
   "source": [
    "import pandas as pd\n",
    "passengers = pd.read_csv('titanic_data.csv')"
   ]
  },
  {
   "cell_type": "code",
   "execution_count": 221,
   "metadata": {
    "collapsed": false,
    "scrolled": true
   },
   "outputs": [
    {
     "data": {
      "text/html": [
       "<div>\n",
       "<table border=\"1\" class=\"dataframe\">\n",
       "  <thead>\n",
       "    <tr style=\"text-align: right;\">\n",
       "      <th></th>\n",
       "      <th>PassengerId</th>\n",
       "      <th>Survived</th>\n",
       "      <th>Pclass</th>\n",
       "      <th>Name</th>\n",
       "      <th>Sex</th>\n",
       "      <th>Age</th>\n",
       "      <th>SibSp</th>\n",
       "      <th>Parch</th>\n",
       "      <th>Ticket</th>\n",
       "      <th>Fare</th>\n",
       "      <th>Cabin</th>\n",
       "      <th>Embarked</th>\n",
       "    </tr>\n",
       "  </thead>\n",
       "  <tbody>\n",
       "    <tr>\n",
       "      <th>0</th>\n",
       "      <td>1</td>\n",
       "      <td>0</td>\n",
       "      <td>3</td>\n",
       "      <td>Braund, Mr. Owen Harris</td>\n",
       "      <td>male</td>\n",
       "      <td>22.0</td>\n",
       "      <td>1</td>\n",
       "      <td>0</td>\n",
       "      <td>A/5 21171</td>\n",
       "      <td>7.2500</td>\n",
       "      <td>NaN</td>\n",
       "      <td>S</td>\n",
       "    </tr>\n",
       "    <tr>\n",
       "      <th>1</th>\n",
       "      <td>2</td>\n",
       "      <td>1</td>\n",
       "      <td>1</td>\n",
       "      <td>Cumings, Mrs. John Bradley (Florence Briggs Th...</td>\n",
       "      <td>female</td>\n",
       "      <td>38.0</td>\n",
       "      <td>1</td>\n",
       "      <td>0</td>\n",
       "      <td>PC 17599</td>\n",
       "      <td>71.2833</td>\n",
       "      <td>C85</td>\n",
       "      <td>C</td>\n",
       "    </tr>\n",
       "    <tr>\n",
       "      <th>2</th>\n",
       "      <td>3</td>\n",
       "      <td>1</td>\n",
       "      <td>3</td>\n",
       "      <td>Heikkinen, Miss. Laina</td>\n",
       "      <td>female</td>\n",
       "      <td>26.0</td>\n",
       "      <td>0</td>\n",
       "      <td>0</td>\n",
       "      <td>STON/O2. 3101282</td>\n",
       "      <td>7.9250</td>\n",
       "      <td>NaN</td>\n",
       "      <td>S</td>\n",
       "    </tr>\n",
       "    <tr>\n",
       "      <th>3</th>\n",
       "      <td>4</td>\n",
       "      <td>1</td>\n",
       "      <td>1</td>\n",
       "      <td>Futrelle, Mrs. Jacques Heath (Lily May Peel)</td>\n",
       "      <td>female</td>\n",
       "      <td>35.0</td>\n",
       "      <td>1</td>\n",
       "      <td>0</td>\n",
       "      <td>113803</td>\n",
       "      <td>53.1000</td>\n",
       "      <td>C123</td>\n",
       "      <td>S</td>\n",
       "    </tr>\n",
       "    <tr>\n",
       "      <th>4</th>\n",
       "      <td>5</td>\n",
       "      <td>0</td>\n",
       "      <td>3</td>\n",
       "      <td>Allen, Mr. William Henry</td>\n",
       "      <td>male</td>\n",
       "      <td>35.0</td>\n",
       "      <td>0</td>\n",
       "      <td>0</td>\n",
       "      <td>373450</td>\n",
       "      <td>8.0500</td>\n",
       "      <td>NaN</td>\n",
       "      <td>S</td>\n",
       "    </tr>\n",
       "  </tbody>\n",
       "</table>\n",
       "</div>"
      ],
      "text/plain": [
       "   PassengerId  Survived  Pclass  \\\n",
       "0            1         0       3   \n",
       "1            2         1       1   \n",
       "2            3         1       3   \n",
       "3            4         1       1   \n",
       "4            5         0       3   \n",
       "\n",
       "                                                Name     Sex   Age  SibSp  \\\n",
       "0                            Braund, Mr. Owen Harris    male  22.0      1   \n",
       "1  Cumings, Mrs. John Bradley (Florence Briggs Th...  female  38.0      1   \n",
       "2                             Heikkinen, Miss. Laina  female  26.0      0   \n",
       "3       Futrelle, Mrs. Jacques Heath (Lily May Peel)  female  35.0      1   \n",
       "4                           Allen, Mr. William Henry    male  35.0      0   \n",
       "\n",
       "   Parch            Ticket     Fare Cabin Embarked  \n",
       "0      0         A/5 21171   7.2500   NaN        S  \n",
       "1      0          PC 17599  71.2833   C85        C  \n",
       "2      0  STON/O2. 3101282   7.9250   NaN        S  \n",
       "3      0            113803  53.1000  C123        S  \n",
       "4      0            373450   8.0500   NaN        S  "
      ]
     },
     "execution_count": 221,
     "metadata": {},
     "output_type": "execute_result"
    }
   ],
   "source": [
    "passengers.head()"
   ]
  },
  {
   "cell_type": "markdown",
   "metadata": {},
   "source": [
    "### Add an Additional Column to the DataFrame\n",
    "The passengers data contains two columns named _'SibSp'_ and _'Parch'_. These columns provide the number of Siblings/Spouses and Parents/Children of the passenger, respectively. We will create a new column called _'Family'_ which will represent the size of family travelling with the passenger. This will be used later to determine whether travelling family size is a factor in the survival of passengers."
   ]
  },
  {
   "cell_type": "code",
   "execution_count": 222,
   "metadata": {
    "collapsed": false,
    "scrolled": true
   },
   "outputs": [
    {
     "data": {
      "text/html": [
       "<div>\n",
       "<table border=\"1\" class=\"dataframe\">\n",
       "  <thead>\n",
       "    <tr style=\"text-align: right;\">\n",
       "      <th></th>\n",
       "      <th>PassengerId</th>\n",
       "      <th>Survived</th>\n",
       "      <th>Pclass</th>\n",
       "      <th>Name</th>\n",
       "      <th>Sex</th>\n",
       "      <th>Age</th>\n",
       "      <th>SibSp</th>\n",
       "      <th>Parch</th>\n",
       "      <th>Ticket</th>\n",
       "      <th>Fare</th>\n",
       "      <th>Cabin</th>\n",
       "      <th>Embarked</th>\n",
       "      <th>Family</th>\n",
       "    </tr>\n",
       "  </thead>\n",
       "  <tbody>\n",
       "    <tr>\n",
       "      <th>0</th>\n",
       "      <td>1</td>\n",
       "      <td>0</td>\n",
       "      <td>3</td>\n",
       "      <td>Braund, Mr. Owen Harris</td>\n",
       "      <td>male</td>\n",
       "      <td>22.0</td>\n",
       "      <td>1</td>\n",
       "      <td>0</td>\n",
       "      <td>A/5 21171</td>\n",
       "      <td>7.2500</td>\n",
       "      <td>NaN</td>\n",
       "      <td>S</td>\n",
       "      <td>1</td>\n",
       "    </tr>\n",
       "    <tr>\n",
       "      <th>1</th>\n",
       "      <td>2</td>\n",
       "      <td>1</td>\n",
       "      <td>1</td>\n",
       "      <td>Cumings, Mrs. John Bradley (Florence Briggs Th...</td>\n",
       "      <td>female</td>\n",
       "      <td>38.0</td>\n",
       "      <td>1</td>\n",
       "      <td>0</td>\n",
       "      <td>PC 17599</td>\n",
       "      <td>71.2833</td>\n",
       "      <td>C85</td>\n",
       "      <td>C</td>\n",
       "      <td>1</td>\n",
       "    </tr>\n",
       "    <tr>\n",
       "      <th>2</th>\n",
       "      <td>3</td>\n",
       "      <td>1</td>\n",
       "      <td>3</td>\n",
       "      <td>Heikkinen, Miss. Laina</td>\n",
       "      <td>female</td>\n",
       "      <td>26.0</td>\n",
       "      <td>0</td>\n",
       "      <td>0</td>\n",
       "      <td>STON/O2. 3101282</td>\n",
       "      <td>7.9250</td>\n",
       "      <td>NaN</td>\n",
       "      <td>S</td>\n",
       "      <td>0</td>\n",
       "    </tr>\n",
       "    <tr>\n",
       "      <th>3</th>\n",
       "      <td>4</td>\n",
       "      <td>1</td>\n",
       "      <td>1</td>\n",
       "      <td>Futrelle, Mrs. Jacques Heath (Lily May Peel)</td>\n",
       "      <td>female</td>\n",
       "      <td>35.0</td>\n",
       "      <td>1</td>\n",
       "      <td>0</td>\n",
       "      <td>113803</td>\n",
       "      <td>53.1000</td>\n",
       "      <td>C123</td>\n",
       "      <td>S</td>\n",
       "      <td>1</td>\n",
       "    </tr>\n",
       "    <tr>\n",
       "      <th>4</th>\n",
       "      <td>5</td>\n",
       "      <td>0</td>\n",
       "      <td>3</td>\n",
       "      <td>Allen, Mr. William Henry</td>\n",
       "      <td>male</td>\n",
       "      <td>35.0</td>\n",
       "      <td>0</td>\n",
       "      <td>0</td>\n",
       "      <td>373450</td>\n",
       "      <td>8.0500</td>\n",
       "      <td>NaN</td>\n",
       "      <td>S</td>\n",
       "      <td>0</td>\n",
       "    </tr>\n",
       "    <tr>\n",
       "      <th>5</th>\n",
       "      <td>6</td>\n",
       "      <td>0</td>\n",
       "      <td>3</td>\n",
       "      <td>Moran, Mr. James</td>\n",
       "      <td>male</td>\n",
       "      <td>NaN</td>\n",
       "      <td>0</td>\n",
       "      <td>0</td>\n",
       "      <td>330877</td>\n",
       "      <td>8.4583</td>\n",
       "      <td>NaN</td>\n",
       "      <td>Q</td>\n",
       "      <td>0</td>\n",
       "    </tr>\n",
       "    <tr>\n",
       "      <th>6</th>\n",
       "      <td>7</td>\n",
       "      <td>0</td>\n",
       "      <td>1</td>\n",
       "      <td>McCarthy, Mr. Timothy J</td>\n",
       "      <td>male</td>\n",
       "      <td>54.0</td>\n",
       "      <td>0</td>\n",
       "      <td>0</td>\n",
       "      <td>17463</td>\n",
       "      <td>51.8625</td>\n",
       "      <td>E46</td>\n",
       "      <td>S</td>\n",
       "      <td>0</td>\n",
       "    </tr>\n",
       "    <tr>\n",
       "      <th>7</th>\n",
       "      <td>8</td>\n",
       "      <td>0</td>\n",
       "      <td>3</td>\n",
       "      <td>Palsson, Master. Gosta Leonard</td>\n",
       "      <td>male</td>\n",
       "      <td>2.0</td>\n",
       "      <td>3</td>\n",
       "      <td>1</td>\n",
       "      <td>349909</td>\n",
       "      <td>21.0750</td>\n",
       "      <td>NaN</td>\n",
       "      <td>S</td>\n",
       "      <td>4</td>\n",
       "    </tr>\n",
       "    <tr>\n",
       "      <th>8</th>\n",
       "      <td>9</td>\n",
       "      <td>1</td>\n",
       "      <td>3</td>\n",
       "      <td>Johnson, Mrs. Oscar W (Elisabeth Vilhelmina Berg)</td>\n",
       "      <td>female</td>\n",
       "      <td>27.0</td>\n",
       "      <td>0</td>\n",
       "      <td>2</td>\n",
       "      <td>347742</td>\n",
       "      <td>11.1333</td>\n",
       "      <td>NaN</td>\n",
       "      <td>S</td>\n",
       "      <td>2</td>\n",
       "    </tr>\n",
       "    <tr>\n",
       "      <th>9</th>\n",
       "      <td>10</td>\n",
       "      <td>1</td>\n",
       "      <td>2</td>\n",
       "      <td>Nasser, Mrs. Nicholas (Adele Achem)</td>\n",
       "      <td>female</td>\n",
       "      <td>14.0</td>\n",
       "      <td>1</td>\n",
       "      <td>0</td>\n",
       "      <td>237736</td>\n",
       "      <td>30.0708</td>\n",
       "      <td>NaN</td>\n",
       "      <td>C</td>\n",
       "      <td>1</td>\n",
       "    </tr>\n",
       "  </tbody>\n",
       "</table>\n",
       "</div>"
      ],
      "text/plain": [
       "   PassengerId  Survived  Pclass  \\\n",
       "0            1         0       3   \n",
       "1            2         1       1   \n",
       "2            3         1       3   \n",
       "3            4         1       1   \n",
       "4            5         0       3   \n",
       "5            6         0       3   \n",
       "6            7         0       1   \n",
       "7            8         0       3   \n",
       "8            9         1       3   \n",
       "9           10         1       2   \n",
       "\n",
       "                                                Name     Sex   Age  SibSp  \\\n",
       "0                            Braund, Mr. Owen Harris    male  22.0      1   \n",
       "1  Cumings, Mrs. John Bradley (Florence Briggs Th...  female  38.0      1   \n",
       "2                             Heikkinen, Miss. Laina  female  26.0      0   \n",
       "3       Futrelle, Mrs. Jacques Heath (Lily May Peel)  female  35.0      1   \n",
       "4                           Allen, Mr. William Henry    male  35.0      0   \n",
       "5                                   Moran, Mr. James    male   NaN      0   \n",
       "6                            McCarthy, Mr. Timothy J    male  54.0      0   \n",
       "7                     Palsson, Master. Gosta Leonard    male   2.0      3   \n",
       "8  Johnson, Mrs. Oscar W (Elisabeth Vilhelmina Berg)  female  27.0      0   \n",
       "9                Nasser, Mrs. Nicholas (Adele Achem)  female  14.0      1   \n",
       "\n",
       "   Parch            Ticket     Fare Cabin Embarked  Family  \n",
       "0      0         A/5 21171   7.2500   NaN        S       1  \n",
       "1      0          PC 17599  71.2833   C85        C       1  \n",
       "2      0  STON/O2. 3101282   7.9250   NaN        S       0  \n",
       "3      0            113803  53.1000  C123        S       1  \n",
       "4      0            373450   8.0500   NaN        S       0  \n",
       "5      0            330877   8.4583   NaN        Q       0  \n",
       "6      0             17463  51.8625   E46        S       0  \n",
       "7      1            349909  21.0750   NaN        S       4  \n",
       "8      2            347742  11.1333   NaN        S       2  \n",
       "9      0            237736  30.0708   NaN        C       1  "
      ]
     },
     "execution_count": 222,
     "metadata": {},
     "output_type": "execute_result"
    }
   ],
   "source": [
    "# Determine each passengers number of accompanying family members by adding\n",
    "# 'SibSp' to 'Parch'\n",
    "passengers['Family'] = passengers['SibSp'] + passengers['Parch']\n",
    "passengers.head(10)"
   ]
  },
  {
   "cell_type": "markdown",
   "metadata": {},
   "source": [
    "### Problems in the Data\n",
    "One problem with the dataset is the fact that some of the passenger ages appear as _'NaN'_ in the DataFrame. It wouldn't be appropriate to address this problem by filling these _NaN_ entries with another value, such as 0, because this would affect any calculations on the age data later. It also wouldn't be appropriate to remove these rows because valuable data in other fields would be lost. Instead, we can setup a separate DataFrame with only rows with valid ages. "
   ]
  },
  {
   "cell_type": "code",
   "execution_count": 223,
   "metadata": {
    "collapsed": false
   },
   "outputs": [],
   "source": [
    "passengers_with_age = passengers.loc[passengers['Age'].notnull()]"
   ]
  },
  {
   "cell_type": "markdown",
   "metadata": {},
   "source": [
    "We have created a new DataFrame called *passengers_with_age*.\n",
    "\n",
    "## Investigating the Data\n",
    "\n",
    "### Find the number of passengers in the data"
   ]
  },
  {
   "cell_type": "code",
   "execution_count": 224,
   "metadata": {
    "collapsed": false
   },
   "outputs": [
    {
     "name": "stdout",
     "output_type": "stream",
     "text": [
      "Total number of passengers: 891\n"
     ]
    }
   ],
   "source": [
    "num_passengers = len(passengers)\n",
    "print(\"Total number of passengers: %d\" % num_passengers)"
   ]
  },
  {
   "cell_type": "markdown",
   "metadata": {},
   "source": [
    "### Find the survival rate of the passengers\n",
    "Find how many of the passengers in the dataset survived and calculate the overall survival rate."
   ]
  },
  {
   "cell_type": "code",
   "execution_count": 225,
   "metadata": {
    "collapsed": true
   },
   "outputs": [],
   "source": [
    "# Define a function to take a DataFrame of data and return a\n",
    "# new DataFrame of passengers with only passengers that survived.\n",
    "# Also return the number of survivors and percentage of passengers\n",
    "# who survived.\n",
    "def GetSurvivors(data):\n",
    "    survivors = data.loc[data['Survived'] == 1]\n",
    "    num_survivors = len(survivors)\n",
    "    survival_rate = float(num_survivors) / float(len(data))\n",
    "    return (num_survivors, survival_rate, survivors)\n",
    "\n",
    "# Define a function that describes the survival rate information\n",
    "def DescribeSurvivalRate(num_survivors, survival_rate, description):\n",
    "    print(\"%s:\" % description.upper())\n",
    "    print(\"No. of survivors: %d\" % num_survivors)\n",
    "    print(\"Survival rate: %.1f%%\" % (survival_rate*100))\n",
    "    print(\"\")"
   ]
  },
  {
   "cell_type": "code",
   "execution_count": 226,
   "metadata": {
    "collapsed": false
   },
   "outputs": [
    {
     "name": "stdout",
     "output_type": "stream",
     "text": [
      "ALL PASSENGERS:\n",
      "No. of survivors: 342\n",
      "Survival rate: 38.4%\n",
      "\n"
     ]
    }
   ],
   "source": [
    "# Survival rate of all passengers\n",
    "(num_survivors, total_survival_rate, survivors) = GetSurvivors(passengers)\n",
    "DescribeSurvivalRate(num_survivors, total_survival_rate, \"All Passengers\")"
   ]
  },
  {
   "cell_type": "code",
   "execution_count": 227,
   "metadata": {
    "collapsed": false
   },
   "outputs": [
    {
     "name": "stdout",
     "output_type": "stream",
     "text": [
      "No. of passengers with a valid age: 714\n",
      "\n",
      "ALL PASSENGERS WITH A VALID AGE:\n",
      "No. of survivors: 290\n",
      "Survival rate: 40.6%\n",
      "\n"
     ]
    }
   ],
   "source": [
    "num_passengers_with_age = len(passengers_with_age)\n",
    "print(\"No. of passengers with a valid age: %d\" % num_passengers_with_age)\n",
    "print(\"\")\n",
    "(num_survivors_with_age, survival_rate_with_age, survivors_with_age) = GetSurvivors(passengers_with_age)\n",
    "DescribeSurvivalRate(num_survivors_with_age, survival_rate_with_age, \"All Passengers With a Valid Age\")"
   ]
  },
  {
   "cell_type": "markdown",
   "metadata": {},
   "source": [
    "The DataFrame containing only passengers with a valid age contains 714 rows. This provides a healthy sample of data with which to perform age-based analysis. The survival rate of these passengers is 40.6%, which is very close to the overall survival rate.\n",
    "\n",
    "## Questions\n",
    "The passenger data is now ready to be analysed. The data raises several questions about the factors that affected each passenger's chance of survival.\n",
    "\n",
    "### Question 1: Did passenger age affect their chance of survival?\n",
    "Create histograms of the ages of all passengers and the ages of surviving passengers."
   ]
  },
  {
   "cell_type": "code",
   "execution_count": 228,
   "metadata": {
    "collapsed": false
   },
   "outputs": [
    {
     "name": "stdout",
     "output_type": "stream",
     "text": [
      "Populating the interactive namespace from numpy and matplotlib\n"
     ]
    },
    {
     "data": {
      "text/plain": [
       "<matplotlib.text.Text at 0x135289e8>"
      ]
     },
     "execution_count": 228,
     "metadata": {},
     "output_type": "execute_result"
    },
    {
     "data": {
      "image/png": "[encoded data removed]",
      "text/plain": [
       "<matplotlib.figure.Figure at 0xf802208>"
      ]
     },
     "metadata": {},
     "output_type": "display_data"
    }
   ],
   "source": [
    "%matplotlib inline\n",
    "%pylab inline\n",
    "import matplotlib.pyplot as plt\n",
    "import seaborn as sns\n",
    "sns.set()\n",
    "\n",
    "f, (ax1, ax2) = plt.subplots(1, 2, sharey=False)\n",
    "ax1.hist(passengers_with_age['Age'], bins=10)\n",
    "ax1.set_title('Passenger Ages')\n",
    "ax1.set_xlabel('Passenger Age')\n",
    "\n",
    "ax2.hist(survivors_with_age['Age'], bins=10)\n",
    "ax2.set_title('Surviving Passenger Ages')\n",
    "ax2.set_xlabel('Passenger Age')"
   ]
  },
  {
   "cell_type": "markdown",
   "metadata": {},
   "source": [
    "The histograms show a striking similarity. They do show a noticable increase in survival for children under 10, but otherwise age doesn't seem to have been a factor in passenger survival.\n",
    "\n",
    "### Question 2: Did gender play a part in passenger survival?\n",
    "Lets analyse the difference between the survival of all males and females, regardless of age."
   ]
  },
  {
   "cell_type": "code",
   "execution_count": 229,
   "metadata": {
    "collapsed": false
   },
   "outputs": [
    {
     "data": {
      "image/png": "[encoded data removed]",
      "text/plain": [
       "<matplotlib.figure.Figure at 0x140c8908>"
      ]
     },
     "metadata": {},
     "output_type": "display_data"
    }
   ],
   "source": [
    "# Create a bar chart of a DataFrame created by grouping passengers\n",
    "# and survivors into male and female.\n",
    "s1 = passengers['Sex'].value_counts(sort=False)\n",
    "s2 = survivors['Sex'].value_counts(sort=False)\n",
    "df1 = pd.DataFrame([s1, s2],\n",
    "                  columns=['male', 'female'])\n",
    "\n",
    "ind = np.arange(2)  # the x locations for the groups\n",
    "width = 0.35       # the width of the bars\n",
    "\n",
    "fig, ax = plt.subplots()\n",
    "rects1 = ax.bar(ind, df1['male'], width, color='r')\n",
    "rects2 = ax.bar(ind + width, df1['female'], width, color='y')\n",
    "\n",
    "# add some text for labels, title and axes ticks\n",
    "ax.set_title('Male/Female Passengers and Survivors')\n",
    "ax.set_xticks(ind + width)\n",
    "ax.set_xticklabels(('Passengers', 'Survivors'))\n",
    "\n",
    "ax.legend((rects1[0], rects2[0]), ('Male', 'Female'))\n",
    "\n",
    "plt.show()"
   ]
  },
  {
   "cell_type": "markdown",
   "metadata": {},
   "source": [
    "The bar graph shows a stark difference between the survival rate of males and females. The result of these first two questions does raise another question.\n",
    "\n",
    "### Question 3: Women and Children First?\n",
    "\"Women and children first\" was a maritime code of conduct dating from the 19th century but most famously associated with the sinking of the Titanic. It was a code of conduct where the lives of women and children were saved first in life-threatening situations where life-saving resources, such as lifeboats, were limited. Does the data show a successful application of this principle?"
   ]
  },
  {
   "cell_type": "code",
   "execution_count": 230,
   "metadata": {
    "collapsed": false
   },
   "outputs": [
    {
     "name": "stdout",
     "output_type": "stream",
     "text": [
      "Number of men passengers: 421\n",
      "Number of women passengers: 231\n",
      "Number of child passengers: 62\n"
     ]
    }
   ],
   "source": [
    "# Separate the passengers with valid ages into men, women and children categories.\n",
    "# Distinguish children as being any passenger with an age under 10.\n",
    "children_passengers = passengers_with_age.loc[passengers_with_age['Age'] < 10]\n",
    "men_passengers = passengers_with_age.loc[(passengers_with_age['Age'] >= 10) & \n",
    "                                         (passengers_with_age['Sex'] == 'male')]\n",
    "women_passengers = passengers_with_age.loc[(passengers_with_age['Age'] >= 10) & \n",
    "                                           (passengers_with_age['Sex'] == 'female')]\n",
    "\n",
    "num_men_passenger = len(men_passengers)\n",
    "num_women_passenger = len(women_passengers)\n",
    "num_children_passenger = len(children_passengers)\n",
    "print(\"Number of men passengers: %d\" % num_men_passenger)\n",
    "print(\"Number of women passengers: %d\" % num_women_passenger)\n",
    "print(\"Number of child passengers: %d\" % num_children_passenger)"
   ]
  },
  {
   "cell_type": "code",
   "execution_count": 231,
   "metadata": {
    "collapsed": false
   },
   "outputs": [
    {
     "name": "stdout",
     "output_type": "stream",
     "text": [
      "MEN PASSENGERS WITH A VALID AGE:\n",
      "No. of survivors: 74\n",
      "Survival rate: 17.6%\n",
      "\n",
      "WOMEN PASSENGERS WITH A VALID AGE:\n",
      "No. of survivors: 178\n",
      "Survival rate: 77.1%\n",
      "\n",
      "CHILDREN PASSENGERS WITH A VALID AGE:\n",
      "No. of survivors: 38\n",
      "Survival rate: 61.3%\n",
      "\n"
     ]
    }
   ],
   "source": [
    "# Determine the respective survival rates of men, women and children\n",
    "(num_men_survivors, men_survival_rate, men_survivors) = GetSurvivors(men_passengers)\n",
    "DescribeSurvivalRate(num_men_survivors, men_survival_rate, \"Men Passengers With a Valid Age\")\n",
    "\n",
    "(num_women_survivors, women_survival_rate, women_survivors) = GetSurvivors(women_passengers)\n",
    "DescribeSurvivalRate(num_women_survivors, women_survival_rate, \"Women Passengers With a Valid Age\")\n",
    "\n",
    "(num_child_survivors, child_survival_rate, children_survivors) = GetSurvivors(children_passengers)\n",
    "DescribeSurvivalRate(num_child_survivors, child_survival_rate, \"Children Passengers With a Valid Age\")"
   ]
  },
  {
   "cell_type": "markdown",
   "metadata": {},
   "source": [
    "The data does show a significant difference in the survival rates of men, women and children, especially between men and women. There could well be other factors, though, affecting the survival rates of men, women and children."
   ]
  },
  {
   "cell_type": "markdown",
   "metadata": {},
   "source": [
    "### Question 4: Did the class of ticket each passenger held affect their chance of survival?\n",
    "\n",
    "There were three classes of tickets on the Titanic: First, Second and Third. Ticket classes in the days of the Titanic were more than just about pricing structure, they were a means to separate the classes of passengers between Upper Class, Middle Class and Lower Class. As such, they are a proxy representation of socio-economic status."
   ]
  },
  {
   "cell_type": "code",
   "execution_count": 232,
   "metadata": {
    "collapsed": false
   },
   "outputs": [
    {
     "name": "stdout",
     "output_type": "stream",
     "text": [
      "First class passengers: 216\n",
      "Second class passengers: 184\n",
      "Third class passengers: 491\n"
     ]
    }
   ],
   "source": [
    "# Create groups of First, Second and Third class passengers.\n",
    "first_class_passengers = passengers.loc[passengers['Pclass'] == 1]\n",
    "num_first_class_passengers = len(first_class_passengers)\n",
    "print \"First class passengers: %d\" % num_first_class_passengers\n",
    "\n",
    "second_class_passengers = passengers.loc[passengers['Pclass'] == 2]\n",
    "num_second_class_passengers = len(second_class_passengers)\n",
    "print \"Second class passengers: %d\" % num_second_class_passengers\n",
    "\n",
    "third_class_passengers = passengers.loc[passengers['Pclass'] == 3]\n",
    "num_third_class_passengers = len(third_class_passengers)\n",
    "print \"Third class passengers: %d\" % num_third_class_passengers"
   ]
  },
  {
   "cell_type": "code",
   "execution_count": 233,
   "metadata": {
    "collapsed": false
   },
   "outputs": [
    {
     "data": {
      "text/plain": [
       "[<matplotlib.text.Text at 0x13b74908>,\n",
       " <matplotlib.text.Text at 0x13b80518>,\n",
       " <matplotlib.text.Text at 0x135d0fd0>,\n",
       " <matplotlib.text.Text at 0x141da2e8>,\n",
       " <matplotlib.text.Text at 0x141cf208>]"
      ]
     },
     "execution_count": 233,
     "metadata": {},
     "output_type": "execute_result"
    },
    {
     "data": {
      "image/png": "[encoded data removed]",
      "text/plain": [
       "<matplotlib.figure.Figure at 0x1380cf28>"
      ]
     },
     "metadata": {},
     "output_type": "display_data"
    }
   ],
   "source": [
    "# Create histograms of passengers and survivors based on ticket class\n",
    "f, (ax1, ax2) = plt.subplots(1, 2, sharey=False)\n",
    "ax1.hist(passengers['Pclass'], bins=3)\n",
    "ax1.set_title('Passenger Ticket Classes')\n",
    "ax1.set_xlabel('Ticket Class')\n",
    "ax1.set_xticklabels(('1st', '' , '2nd', '' , '3rd'))\n",
    "\n",
    "ax2.hist(survivors['Pclass'], bins=3)\n",
    "ax2.set_title('Surviving Passenger Classes')\n",
    "ax2.set_xlabel('Ticket Class')\n",
    "ax2.set_xticklabels(('1st', '' , '2nd', '' , '3rd'))"
   ]
  },
  {
   "cell_type": "markdown",
   "metadata": {},
   "source": [
    "The histograms show different shapes, suggesting different survival rates across the classes."
   ]
  },
  {
   "cell_type": "code",
   "execution_count": 234,
   "metadata": {
    "collapsed": false
   },
   "outputs": [
    {
     "name": "stdout",
     "output_type": "stream",
     "text": [
      "FIRST CLASS PASSENGERS:\n",
      "No. of survivors: 136\n",
      "Survival rate: 63.0%\n",
      "\n",
      "SECOND CLASS PASSENGERS:\n",
      "No. of survivors: 87\n",
      "Survival rate: 47.3%\n",
      "\n",
      "THIRD CLASS PASSENGERS:\n",
      "No. of survivors: 119\n",
      "Survival rate: 24.2%\n",
      "\n"
     ]
    }
   ],
   "source": [
    "(num_first_class_survivors, fc_survival_rate, first_class_survivors) = GetSurvivors(first_class_passengers)\n",
    "DescribeSurvivalRate(num_first_class_survivors, fc_survival_rate, \"First Class Passengers\")\n",
    "\n",
    "(num_second_class_survivors, sc_survival_rate, second_class_survivors) = GetSurvivors(second_class_passengers)\n",
    "DescribeSurvivalRate(num_second_class_survivors, sc_survival_rate, \"Second Class Passengers\")\n",
    "\n",
    "(num_third_class_survivors, tc_survival_rate, third_class_survivors) = GetSurvivors(third_class_passengers)\n",
    "DescribeSurvivalRate(num_third_class_survivors, tc_survival_rate, \"Third Class Passengers\")"
   ]
  },
  {
   "cell_type": "markdown",
   "metadata": {},
   "source": [
    "The Upper Classes enjoyed a much higher chance of survival compared to Lower Class passengers. First Class passengers survived at a rate of 63%, compared to 24% for Third Class passengers.\n",
    "\n",
    "### Question 5: Did port of embarkation affect chance of survival?"
   ]
  },
  {
   "cell_type": "code",
   "execution_count": 235,
   "metadata": {
    "collapsed": false
   },
   "outputs": [
    {
     "name": "stdout",
     "output_type": "stream",
     "text": [
      "Passengers embarking at Cherbourg: 168\n",
      "Passengers embarking at Queenstown: 77\n",
      "Passengers embarking at Southampton: 644\n"
     ]
    }
   ],
   "source": [
    "# Group passengers based on which port they embarked from.\n",
    "port_c_passengers = passengers.loc[passengers['Embarked'] == 'C']\n",
    "num_port_c_passengers = len(port_c_passengers)\n",
    "port_q_passengers = passengers.loc[passengers['Embarked'] == 'Q']\n",
    "num_port_q_passengers = len(port_q_passengers)\n",
    "port_s_passengers = passengers.loc[passengers['Embarked'] == 'S']\n",
    "num_port_s_passengers = len(port_s_passengers)\n",
    "\n",
    "print(\"Passengers embarking at Cherbourg: %d\" % num_port_c_passengers)\n",
    "print(\"Passengers embarking at Queenstown: %d\" % num_port_q_passengers)\n",
    "print(\"Passengers embarking at Southampton: %d\" % num_port_s_passengers)"
   ]
  },
  {
   "cell_type": "code",
   "execution_count": 236,
   "metadata": {
    "collapsed": false
   },
   "outputs": [
    {
     "name": "stdout",
     "output_type": "stream",
     "text": [
      "PASSENGERS EMBARKING AT CHERBOURG:\n",
      "No. of survivors: 93\n",
      "Survival rate: 55.4%\n",
      "\n",
      "PASSENGERS EMBARKING AT QUEENSTOWN:\n",
      "No. of survivors: 30\n",
      "Survival rate: 39.0%\n",
      "\n",
      "PASSENGERS EMBARKING AT SOUTHAMPTON:\n",
      "No. of survivors: 217\n",
      "Survival rate: 33.7%\n",
      "\n"
     ]
    }
   ],
   "source": [
    "(num_cherbourg_survivors, c_survival_rate, cherbourg_survivors) = GetSurvivors(port_c_passengers)\n",
    "DescribeSurvivalRate(num_cherbourg_survivors, c_survival_rate, \"Passengers Embarking at Cherbourg\")\n",
    "\n",
    "(num_queenstown_survivors, q_survival_rate, queenstown_survivors) = GetSurvivors(port_q_passengers)\n",
    "DescribeSurvivalRate(num_queenstown_survivors, q_survival_rate, \"Passengers Embarking at Queenstown\")\n",
    "\n",
    "(num_southhampton_survivors, s_survival_rate, southhampton_survivors) = GetSurvivors(port_s_passengers)\n",
    "DescribeSurvivalRate(num_southhampton_survivors, s_survival_rate, \"Passengers Embarking at Southampton\")"
   ]
  },
  {
   "cell_type": "code",
   "execution_count": 237,
   "metadata": {
    "collapsed": false
   },
   "outputs": [
    {
     "name": "stdout",
     "output_type": "stream",
     "text": [
      "First class passengers from Cherbourg: 85\n"
     ]
    }
   ],
   "source": [
    "first_class_port_c_passengers = port_c_passengers.loc[passengers['Pclass'] == 1]\n",
    "print(\"First class passengers from Cherbourg: %d\" % len(first_class_port_c_passengers))"
   ]
  },
  {
   "cell_type": "code",
   "execution_count": 238,
   "metadata": {
    "collapsed": false
   },
   "outputs": [
    {
     "name": "stdout",
     "output_type": "stream",
     "text": [
      "FIRST CLASS PASSENGERS EMBARKING AT CHERBOURG:\n",
      "No. of survivors: 59\n",
      "Survival rate: 69.4%\n",
      "\n"
     ]
    }
   ],
   "source": [
    "(num_first_class_cherbourg_survivors, fc_cherbourg_survival_rate, first_class_cherbourg_survivors) = GetSurvivors(first_class_port_c_passengers)\n",
    "DescribeSurvivalRate(num_first_class_cherbourg_survivors, fc_cherbourg_survival_rate, \"First Class Passengers Embarking at Cherbourg\")"
   ]
  },
  {
   "cell_type": "code",
   "execution_count": 239,
   "metadata": {
    "collapsed": false
   },
   "outputs": [
    {
     "name": "stdout",
     "output_type": "stream",
     "text": [
      "Third class passengers from Southhampton: 353\n"
     ]
    }
   ],
   "source": [
    "third_class_port_s_passengers = port_s_passengers.loc[passengers['Pclass'] == 3]\n",
    "print(\"Third class passengers from Southhampton: %d\" % len(third_class_port_s_passengers))"
   ]
  },
  {
   "cell_type": "markdown",
   "metadata": {
    "collapsed": false
   },
   "source": [
    "Passengers embarking at Cherbourg had a significant increase in survival rate over other passengers, but this seems to be because a large number of First Class passengers embarked there.\n",
    "\n",
    "### Question 6: Did passengers with family members on board have a higher chance of survival?"
   ]
  },
  {
   "cell_type": "code",
   "execution_count": 240,
   "metadata": {
    "collapsed": false
   },
   "outputs": [
    {
     "data": {
      "text/plain": [
       "<matplotlib.text.Text at 0x13e1f2e8>"
      ]
     },
     "execution_count": 240,
     "metadata": {},
     "output_type": "execute_result"
    },
    {
     "data": {
      "image/png": "[encoded data removed]",
      "text/plain": [
       "<matplotlib.figure.Figure at 0x12f73ba8>"
      ]
     },
     "metadata": {},
     "output_type": "display_data"
    }
   ],
   "source": [
    "f, (ax1, ax2) = plt.subplots(1, 2, sharey=False)\n",
    "ax1.hist(passengers['Family'], bins=10)\n",
    "ax1.set_title('Passenger Family Members')\n",
    "ax1.set_xlabel('Family Members')\n",
    "\n",
    "ax2.hist(survivors['Family'], bins=10)\n",
    "ax2.set_title('Survivor Family Members')\n",
    "ax2.set_xlabel('Family Members')"
   ]
  },
  {
   "cell_type": "markdown",
   "metadata": {},
   "source": [
    "The shape of the histograms suggests that passengers with family members on board might have had a better chance of survival.\n",
    "We will plot the survival rates on a bar graph."
   ]
  },
  {
   "cell_type": "code",
   "execution_count": 241,
   "metadata": {
    "collapsed": false
   },
   "outputs": [],
   "source": [
    "family_0_passengers = passengers.loc[passengers['Family'] == 0]\n",
    "(num_family_0_survivors, f0_survival_rate, family_0_survivors) = GetSurvivors(family_0_passengers)\n",
    "\n",
    "family_1_passengers = passengers.loc[passengers['Family'] == 1]\n",
    "(num_family_1_survivors, f1_survival_rate, family_1_survivors) = GetSurvivors(family_1_passengers)\n",
    "\n",
    "family_2_passengers = passengers.loc[passengers['Family'] == 2]\n",
    "(num_family_2_survivors, f2_survival_rate, family_2_survivors) = GetSurvivors(family_2_passengers)\n",
    "\n",
    "family_3_passengers = passengers.loc[passengers['Family'] == 3]\n",
    "(num_family_3_survivors, f3_survival_rate, family_3_survivors) = GetSurvivors(family_3_passengers)\n",
    "\n",
    "family_4_passengers = passengers.loc[passengers['Family'] == 4]\n",
    "(num_family_4_survivors, f4_survival_rate, family_4_survivors) = GetSurvivors(family_4_passengers)"
   ]
  },
  {
   "cell_type": "code",
   "execution_count": 242,
   "metadata": {
    "collapsed": false
   },
   "outputs": [
    {
     "data": {
      "image/png": "[encoded data removed]",
      "text/plain": [
       "<matplotlib.figure.Figure at 0x13d73da0>"
      ]
     },
     "metadata": {},
     "output_type": "display_data"
    }
   ],
   "source": [
    "s0 = f0_survival_rate * 100\n",
    "s1 = f1_survival_rate * 100\n",
    "s2 = f2_survival_rate * 100\n",
    "s3 = f3_survival_rate * 100\n",
    "s4 = f4_survival_rate * 100\n",
    "df2 = pd.DataFrame({'rates' : [s0, s1, s2, s3, s4]},\n",
    "                    index=[0, 1, 2, 3, 4])\n",
    "\n",
    "fig, ax = plt.subplots()\n",
    "width = 0.8\n",
    "rects = ax.bar(df2.index, df2['rates'], width=width, color='r')\n",
    "ax.set_ylabel('Survival Rate (%)')\n",
    "ax.set_title('Survival Rate Based on Accompanying Family Members')\n",
    "ax.set_xticks(df2.index + width/2)\n",
    "ax.set_xticklabels(('None', '1', '2', '3', '4'))\n",
    "plt.show()"
   ]
  },
  {
   "cell_type": "markdown",
   "metadata": {},
   "source": [
    "The bar graph does suggest that passengers with 1, 2 or 3 family members on board had a better chance of survival. We can only speculate as to why this would be so. Possibly because mothers were given priority over other women. However, the number of multi-member families may be too small to make this result reliable.\n",
    "\n",
    "### Question 7: Did the passengers pay consistant fares across the ticket class?\n",
    "Were the passengers charged according to a consistent pricing structure in each of the three ticket classes?"
   ]
  },
  {
   "cell_type": "code",
   "execution_count": 243,
   "metadata": {
    "collapsed": false
   },
   "outputs": [
    {
     "name": "stdout",
     "output_type": "stream",
     "text": [
      "The mean fare in First Class: 84.15      variance: 78.38\n",
      "The mean fare in Second Class: 20.66     variance: 13.42\n",
      "The mean fare in Third Class: 13.68      variance: 11.78\n"
     ]
    }
   ],
   "source": [
    "# Group fares based on class\n",
    "# Group Passengers by Sex/Class\n",
    "grouped_by_class = passengers.groupby(['Pclass'])\n",
    "mean_fares = grouped_by_class['Fare'].mean()\n",
    "std_fares = grouped_by_class['Fare'].std()\n",
    "print(\"The mean fare in First Class: %.2f      variance: %.2f\" % (mean_fares[1], std_fares[1]))\n",
    "print(\"The mean fare in Second Class: %.2f     variance: %.2f\" % (mean_fares[2], std_fares[2]))\n",
    "print(\"The mean fare in Third Class: %.2f      variance: %.2f\" % (mean_fares[3], std_fares[3]))"
   ]
  },
  {
   "cell_type": "code",
   "execution_count": 244,
   "metadata": {
    "collapsed": true
   },
   "outputs": [],
   "source": [
    "# Define a function for standardising a vector of data\n",
    "def StandardiseVector(data):\n",
    "    return (data - data.mean()) / data.std(ddof=0)"
   ]
  },
  {
   "cell_type": "code",
   "execution_count": 245,
   "metadata": {
    "collapsed": false
   },
   "outputs": [
    {
     "name": "stdout",
     "output_type": "stream",
     "text": [
      "Pearson's correlation coefficient: -0.549500\n",
      "Pearson's correlation coefficient (via NumPy): -0.549500\n"
     ]
    }
   ],
   "source": [
    "# Find the correlation between Fare/Pclass\n",
    "fare = passengers['Fare']\n",
    "pclass = passengers['Pclass']\n",
    "\n",
    "standardised_fares = StandardiseVector(passengers['Fare'])\n",
    "standardised_class = StandardiseVector(passengers['Pclass'])\n",
    "\n",
    "r1 = (standardised_fares * standardised_class).mean()\n",
    "print(\"Pearson's correlation coefficient: %f\" % r1)\n",
    "r2 = np.corrcoef(fare, pclass)[1, 0]\n",
    "print(\"Pearson's correlation coefficient (via NumPy): %f\" % r2)"
   ]
  },
  {
   "cell_type": "markdown",
   "metadata": {},
   "source": [
    "The correlation coefficient suggests that weren't very consistent in each of the three ticket classes. This is supported by the standard deviation of the fares charged in each ticket class. \n",
    "\n",
    "## Conclusion\n",
    "\n",
    "In conclusion, it would seem that the only factors that have a significant and reliable affect on passenger survival are:\n",
    "* Sex of the passenger\n",
    "* Social class of the passenger\n",
    "\n",
    "It might be useful to group the passengers by both of these factors to see the full range of survival probability for different cateories of passenger. Grouping by _'Sex'_ and _'Pclass'_ will produce six categories of passenger:\n",
    "* First Class female passenger\n",
    "* Second Class female passenger\n",
    "* Third Class female passenger\n",
    "* First Class male passenger\n",
    "* Second Class male passenger\n",
    "* Third Class male passenger"
   ]
  },
  {
   "cell_type": "code",
   "execution_count": 246,
   "metadata": {
    "collapsed": false
   },
   "outputs": [
    {
     "data": {
      "text/plain": [
       "[96.80851063829788,\n",
       " 92.10526315789474,\n",
       " 50.0,\n",
       " 36.885245901639344,\n",
       " 15.74074074074074,\n",
       " 13.544668587896252]"
      ]
     },
     "execution_count": 246,
     "metadata": {},
     "output_type": "execute_result"
    }
   ],
   "source": [
    "# Group Passengers by Sex/Class\n",
    "grouped_passengers = passengers.groupby(['Sex', 'Pclass'])\n",
    "group_survival_rates = []\n",
    "for name, group in grouped_passengers: \n",
    "    (num_group_survivors, group_survival_rate, group_survivors) = GetSurvivors(group)\n",
    "    group_survival_rates.append(group_survival_rate*100)\n",
    "group_survival_rates"
   ]
  },
  {
   "cell_type": "code",
   "execution_count": 247,
   "metadata": {
    "collapsed": false
   },
   "outputs": [
    {
     "data": {
      "image/png": "[encoded data removed]",
      "text/plain": [
       "<matplotlib.figure.Figure at 0x14730e10>"
      ]
     },
     "metadata": {},
     "output_type": "display_data"
    }
   ],
   "source": [
    "df3 = pd.DataFrame({'rates' : group_survival_rates},\n",
    "                    index=[0, 1, 2, 3, 4, 5])\n",
    "\n",
    "fig, ax = plt.subplots()\n",
    "width = 0.8\n",
    "rects = ax.bar(df3.index, df3['rates'], width=width, color='r')\n",
    "ax.set_ylabel('Survival Rate (%)')\n",
    "ax.set_title('Survival Rate Based on Sex / Ticket Class')\n",
    "ax.set_xticks(df3.index + width/2)\n",
    "ax.set_xticklabels(('F / 1st', 'F / 2nd', 'F / 3rd', 'M / 1st', 'M / 2nd', 'M / 3rd'))\n",
    "plt.show()"
   ]
  },
  {
   "cell_type": "markdown",
   "metadata": {},
   "source": [
    "The bar graph shows a distinct difference in the survival chance for different categories of passengers. A female in First Class had an almost inevitable chance of survival, whereas a male in Third Class had little chance of surviving."
   ]
  }
 ],
 "metadata": {
  "anaconda-cloud": {},
  "kernelspec": {
   "display_name": "Python 2",
   "language": "python",
   "name": "python2"
  },
  "language_info": {
   "codemirror_mode": {
    "name": "ipython",
    "version": 2
   },
   "file_extension": ".py",
   "mimetype": "text/x-python",
   "name": "python",
   "nbconvert_exporter": "python",
   "pygments_lexer": "ipython2",
   "version": "2.7.12"
  }
 },
 "nbformat": 4,
 "nbformat_minor": 2
}
